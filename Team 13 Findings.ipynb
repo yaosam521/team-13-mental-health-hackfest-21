{
 "cells": [
  {
   "cell_type": "markdown",
   "metadata": {},
   "source": [
    "# Mental Health Hack Fest 2021\n",
    "## Team 13\n",
    "### By Sam Yao\n",
    "\n"
   ]
  },
  {
   "cell_type": "code",
   "execution_count": 180,
   "metadata": {},
   "outputs": [],
   "source": [
    "import pandas as pd\n",
    "import numpy as np\n",
    "import seaborn as sns\n",
    "import matplotlib.pyplot as plt"
   ]
  },
  {
   "cell_type": "code",
   "execution_count": 160,
   "metadata": {},
   "outputs": [
    {
     "data": {
      "text/plain": [
       "(702, 187)"
      ]
     },
     "execution_count": 160,
     "metadata": {},
     "output_type": "execute_result"
    }
   ],
   "source": [
    "#Import overall data\n",
    "df = pd.read_csv('./HackFest21-Data.csv')\n",
    "df.shape"
   ]
  },
  {
   "cell_type": "markdown",
   "metadata": {},
   "source": [
    "## Assumptions and Givens:\n",
    "- Data was fielded in March of 2021 in a period of about two weeks\n",
    "- The dataset is a representative sample of college students under 30 years of age in the US"
   ]
  },
  {
   "cell_type": "markdown",
   "metadata": {},
   "source": [
    "# Study of Mental Health Related Questions\n",
    "# Prompt 1:"
   ]
  },
  {
   "cell_type": "code",
   "execution_count": 23,
   "metadata": {},
   "outputs": [],
   "source": [
    "mental_health_df = df.copy()\n",
    "mental_health_df=mental_health_df[['Q32','Q33','Q34','Q35','Q36_1','Q36_2','Q36_3',\n",
    "                     'Q36_4','Q36_5','Q36_6','Q36_7','Q36_8','Q37',\n",
    "                     'Q38','Q38a','Q38b','Q38c']]"
   ]
  },
  {
   "cell_type": "code",
   "execution_count": 24,
   "metadata": {},
   "outputs": [
    {
     "data": {
      "text/html": [
       "<div>\n",
       "<style scoped>\n",
       "    .dataframe tbody tr th:only-of-type {\n",
       "        vertical-align: middle;\n",
       "    }\n",
       "\n",
       "    .dataframe tbody tr th {\n",
       "        vertical-align: top;\n",
       "    }\n",
       "\n",
       "    .dataframe thead th {\n",
       "        text-align: right;\n",
       "    }\n",
       "</style>\n",
       "<table border=\"1\" class=\"dataframe\">\n",
       "  <thead>\n",
       "    <tr style=\"text-align: right;\">\n",
       "      <th></th>\n",
       "      <th>anxiety</th>\n",
       "      <th>stop_worrying</th>\n",
       "      <th>anhedonia</th>\n",
       "      <th>depression</th>\n",
       "      <th>insurance_employer</th>\n",
       "      <th>insurance_company</th>\n",
       "      <th>insurance_medicare</th>\n",
       "      <th>insurance_medicaid</th>\n",
       "      <th>insurance_tricare</th>\n",
       "      <th>insurance_va</th>\n",
       "      <th>insurance_ihs</th>\n",
       "      <th>insurance_other</th>\n",
       "      <th>delay_medical_care</th>\n",
       "      <th>failed_medical_care</th>\n",
       "      <th>mental_health_prescription</th>\n",
       "      <th>got_counseling</th>\n",
       "      <th>no_counseling</th>\n",
       "    </tr>\n",
       "  </thead>\n",
       "  <tbody>\n",
       "    <tr>\n",
       "      <th>200</th>\n",
       "      <td>2</td>\n",
       "      <td>2</td>\n",
       "      <td>2</td>\n",
       "      <td>3</td>\n",
       "      <td>1</td>\n",
       "      <td>2</td>\n",
       "      <td>2</td>\n",
       "      <td>2</td>\n",
       "      <td>2</td>\n",
       "      <td>2</td>\n",
       "      <td>2</td>\n",
       "      <td>2</td>\n",
       "      <td>2</td>\n",
       "      <td>2</td>\n",
       "      <td>2</td>\n",
       "      <td>1</td>\n",
       "      <td>2</td>\n",
       "    </tr>\n",
       "    <tr>\n",
       "      <th>12</th>\n",
       "      <td>2</td>\n",
       "      <td>1</td>\n",
       "      <td>1</td>\n",
       "      <td>1</td>\n",
       "      <td>1</td>\n",
       "      <td>2</td>\n",
       "      <td>2</td>\n",
       "      <td>2</td>\n",
       "      <td>2</td>\n",
       "      <td>2</td>\n",
       "      <td>2</td>\n",
       "      <td>2</td>\n",
       "      <td>1</td>\n",
       "      <td>1</td>\n",
       "      <td>1</td>\n",
       "      <td>1</td>\n",
       "      <td>1</td>\n",
       "    </tr>\n",
       "    <tr>\n",
       "      <th>346</th>\n",
       "      <td>1</td>\n",
       "      <td>1</td>\n",
       "      <td>1</td>\n",
       "      <td>1</td>\n",
       "      <td>1</td>\n",
       "      <td>1</td>\n",
       "      <td>2</td>\n",
       "      <td>2</td>\n",
       "      <td>2</td>\n",
       "      <td>2</td>\n",
       "      <td>2</td>\n",
       "      <td>2</td>\n",
       "      <td>2</td>\n",
       "      <td>2</td>\n",
       "      <td>2</td>\n",
       "      <td>2</td>\n",
       "      <td>2</td>\n",
       "    </tr>\n",
       "    <tr>\n",
       "      <th>307</th>\n",
       "      <td>2</td>\n",
       "      <td>2</td>\n",
       "      <td>4</td>\n",
       "      <td>4</td>\n",
       "      <td>2</td>\n",
       "      <td>2</td>\n",
       "      <td>2</td>\n",
       "      <td>2</td>\n",
       "      <td>2</td>\n",
       "      <td>2</td>\n",
       "      <td>2</td>\n",
       "      <td>2</td>\n",
       "      <td>2</td>\n",
       "      <td>2</td>\n",
       "      <td>2</td>\n",
       "      <td>2</td>\n",
       "      <td>2</td>\n",
       "    </tr>\n",
       "    <tr>\n",
       "      <th>268</th>\n",
       "      <td>4</td>\n",
       "      <td>4</td>\n",
       "      <td>4</td>\n",
       "      <td>4</td>\n",
       "      <td>2</td>\n",
       "      <td>2</td>\n",
       "      <td>2</td>\n",
       "      <td>2</td>\n",
       "      <td>2</td>\n",
       "      <td>2</td>\n",
       "      <td>2</td>\n",
       "      <td>2</td>\n",
       "      <td>2</td>\n",
       "      <td>2</td>\n",
       "      <td>2</td>\n",
       "      <td>2</td>\n",
       "      <td>2</td>\n",
       "    </tr>\n",
       "  </tbody>\n",
       "</table>\n",
       "</div>"
      ],
      "text/plain": [
       "     anxiety  stop_worrying  anhedonia  depression  insurance_employer  \\\n",
       "200        2              2          2           3                   1   \n",
       "12         2              1          1           1                   1   \n",
       "346        1              1          1           1                   1   \n",
       "307        2              2          4           4                   2   \n",
       "268        4              4          4           4                   2   \n",
       "\n",
       "     insurance_company  insurance_medicare  insurance_medicaid  \\\n",
       "200                  2                   2                   2   \n",
       "12                   2                   2                   2   \n",
       "346                  1                   2                   2   \n",
       "307                  2                   2                   2   \n",
       "268                  2                   2                   2   \n",
       "\n",
       "     insurance_tricare  insurance_va  insurance_ihs  insurance_other  \\\n",
       "200                  2             2              2                2   \n",
       "12                   2             2              2                2   \n",
       "346                  2             2              2                2   \n",
       "307                  2             2              2                2   \n",
       "268                  2             2              2                2   \n",
       "\n",
       "     delay_medical_care  failed_medical_care  mental_health_prescription  \\\n",
       "200                   2                    2                           2   \n",
       "12                    1                    1                           1   \n",
       "346                   2                    2                           2   \n",
       "307                   2                    2                           2   \n",
       "268                   2                    2                           2   \n",
       "\n",
       "     got_counseling  no_counseling  \n",
       "200               1              2  \n",
       "12                1              1  \n",
       "346               2              2  \n",
       "307               2              2  \n",
       "268               2              2  "
      ]
     },
     "execution_count": 24,
     "metadata": {},
     "output_type": "execute_result"
    }
   ],
   "source": [
    "mental_health_df.columns = ['anxiety',\n",
    "                            'stop_worrying',\n",
    "                            'anhedonia',\n",
    "                            'depression', \n",
    "                            'insurance_employer', \n",
    "                            'insurance_company', \n",
    "                            'insurance_medicare',\n",
    "                            'insurance_medicaid',\n",
    "                            'insurance_tricare',\n",
    "                            'insurance_va', \n",
    "                            'insurance_ihs',\n",
    "                            'insurance_other',\n",
    "                            'delay_medical_care',\n",
    "                            'failed_medical_care',\n",
    "                            'mental_health_prescription',\n",
    "                            'got_counseling',\n",
    "                            'no_counseling']\n",
    "mental_health_df.sample(5)"
   ]
  },
  {
   "cell_type": "code",
   "execution_count": 37,
   "metadata": {},
   "outputs": [
    {
     "name": "stdout",
     "output_type": "stream",
     "text": [
      " 1     153\n",
      " 2     548\n",
      "-99      1\n",
      "Name: got_counseling, dtype: int64\n",
      "1    188\n",
      "2    514\n",
      "Name: no_counseling, dtype: int64\n",
      "\n",
      "\n",
      "\n",
      "21.79 % of respondents got counseling\n",
      "73.22 % of respondents did not get counseling\n"
     ]
    }
   ],
   "source": [
    "# For the following, Yes is coded as '1' and No is coded as '2'\n",
    "# Did not Answer is coded as '-99'\n",
    "print(mental_health_df['got_counseling'].value_counts(sort=False))\n",
    "print(mental_health_df['no_counseling'].value_counts(sort=False))\n",
    "print(\"\\n\\n\")\n",
    "print(\"{:.2f}\".format((153/702)*100), \"% of respondents got counseling\")\n",
    "print(\"{:.2f}\".format((514/702)*100), \"% of respondents did not get counseling\")"
   ]
  },
  {
   "cell_type": "markdown",
   "metadata": {},
   "source": [
    "### Percentage of people who reported mental health problems"
   ]
  },
  {
   "cell_type": "code",
   "execution_count": 33,
   "metadata": {},
   "outputs": [
    {
     "name": "stdout",
     "output_type": "stream",
     "text": [
      "1    127\n",
      "2    219\n",
      "3    114\n",
      "4    242\n",
      "Name: anxiety, dtype: int64\n",
      "1    195\n",
      "2    215\n",
      "3    110\n",
      "4    182\n",
      "Name: stop_worrying, dtype: int64\n",
      "1    173\n",
      "2    233\n",
      "3    123\n",
      "4    173\n",
      "Name: anhedonia, dtype: int64\n",
      "1    188\n",
      "2    235\n",
      "3    108\n",
      "4    171\n",
      "Name: depression, dtype: int64\n",
      "\n",
      "\n",
      "\n",
      "81.91 % of respondents reported several days of anxiety\n",
      "72.22 % of respondents reported several days of non-stop worrying\n",
      "75.36 % of respondents reported several days of general disintrest\n",
      "73.22 % of respondents reported several days of depression\n"
     ]
    }
   ],
   "source": [
    "print(mental_health_df['anxiety'].value_counts(sort=False))\n",
    "print(mental_health_df['stop_worrying'].value_counts(sort=False))\n",
    "print(mental_health_df['anhedonia'].value_counts(sort=False))\n",
    "print(mental_health_df['depression'].value_counts(sort=False))\n",
    "print(\"\\n\\n\")\n",
    "print(\"{:.2f}\".format(((702-127)/702)*100), \"% of respondents reported several days of anxiety\")\n",
    "print(\"{:.2f}\".format(((702-195)/702)*100), \"% of respondents reported several days of non-stop worrying\")\n",
    "print(\"{:.2f}\".format(((702-173)/702)*100), \"% of respondents reported several days of general disintrest\")\n",
    "print(\"{:.2f}\".format(((702-188)/702)*100), \"% of respondents reported several days of depression\")"
   ]
  },
  {
   "cell_type": "code",
   "execution_count": 75,
   "metadata": {},
   "outputs": [
    {
     "data": {
      "text/plain": [
       "33"
      ]
     },
     "execution_count": 75,
     "metadata": {},
     "output_type": "execute_result"
    }
   ],
   "source": [
    "# Query to ask how many students had inconsistent access to therapy\n",
    "mental_health_df.query('got_counseling==1 and no_counseling==1').shape[0]"
   ]
  },
  {
   "cell_type": "markdown",
   "metadata": {},
   "source": [
    "## Despite more than 70% of respondents experiencing at least several days or more of one of the following:\n",
    "- Anxiety\n",
    "- The inability to stop worrying\n",
    "- Having little interest in doing things\n",
    "- Feeling depressed or hopeless\n",
    "\n",
    "## only 21.79% of respondents received counseling or therapy in the last four weeks. \n",
    "\n",
    "Additionally, 33 respondents reported they both received counseling and needed it but failed to get it, suggesting that therapy was denied at least once."
   ]
  },
  {
   "cell_type": "markdown",
   "metadata": {},
   "source": [
    "## Logistic Regression Model on Mental Health Resources"
   ]
  },
  {
   "cell_type": "markdown",
   "metadata": {},
   "source": [
    "There was a respondent who didn't fill out the question if they had counseling or not, so their entry was deleted"
   ]
  },
  {
   "cell_type": "code",
   "execution_count": 168,
   "metadata": {},
   "outputs": [
    {
     "data": {
      "text/plain": [
       "(701, 17)"
      ]
     },
     "execution_count": 168,
     "metadata": {},
     "output_type": "execute_result"
    }
   ],
   "source": [
    "mental_health_df= mental_health_df.query('got_counseling > 0')\n",
    "mental_health_df.shape"
   ]
  },
  {
   "cell_type": "code",
   "execution_count": 169,
   "metadata": {},
   "outputs": [],
   "source": [
    "from sklearn.model_selection import train_test_split\n",
    "from sklearn.metrics import accuracy_score\n",
    "X=mental_health_df[['anxiety',\n",
    "                    'stop_worrying',\n",
    "                    'anhedonia',\n",
    "                    'depression']]\n",
    "y=mental_health_df['got_counseling']"
   ]
  },
  {
   "cell_type": "code",
   "execution_count": 171,
   "metadata": {},
   "outputs": [
    {
     "name": "stdout",
     "output_type": "stream",
     "text": [
      "<class 'pandas.core.frame.DataFrame'>\n",
      "Int64Index: 701 entries, 0 to 701\n",
      "Data columns (total 4 columns):\n",
      " #   Column         Non-Null Count  Dtype\n",
      "---  ------         --------------  -----\n",
      " 0   anxiety        701 non-null    int64\n",
      " 1   stop_worrying  701 non-null    int64\n",
      " 2   anhedonia      701 non-null    int64\n",
      " 3   depression     701 non-null    int64\n",
      "dtypes: int64(4)\n",
      "memory usage: 27.4 KB\n"
     ]
    }
   ],
   "source": [
    "X_train, X_test, y_train, y_test = train_test_split(X, y, test_size = 1/3)\n",
    "X.info()"
   ]
  },
  {
   "cell_type": "markdown",
   "metadata": {},
   "source": [
    "Cross validation through K-folds (6 Splits)"
   ]
  },
  {
   "cell_type": "code",
   "execution_count": 172,
   "metadata": {},
   "outputs": [
    {
     "name": "stdout",
     "output_type": "stream",
     "text": [
      "Fold 1: Train Accuracy=0.78, Test Accuracy=0.79\n",
      "Fold 2: Train Accuracy=0.79, Test Accuracy=0.73\n",
      "Fold 3: Train Accuracy=0.77, Test Accuracy=0.85\n",
      "Fold 4: Train Accuracy=0.78, Test Accuracy=0.79\n",
      "Fold 5: Train Accuracy=0.78, Test Accuracy=0.79\n",
      "Fold 6: Train Accuracy=0.79, Test Accuracy=0.74\n",
      "Average Accuracy Train:0.78 Accuracy Test:0.78\n"
     ]
    }
   ],
   "source": [
    "from sklearn.metrics import accuracy_score, classification_report\n",
    "from sklearn.linear_model import LogisticRegression\n",
    "lr = LogisticRegression()\n",
    "\n",
    "kf = KFold(n_splits=6, shuffle=True)\n",
    "acc_train=[]\n",
    "acc_test=[]\n",
    "for fold, (train_i, test_i) in enumerate(kf.split(X)):\n",
    "    X_train, X_test = X.iloc[train_i], X.iloc[test_i]\n",
    "    y_train, y_test = y.iloc[train_i], y.iloc[test_i]\n",
    "    lr.fit(X_train, y_train)\n",
    "    y_hat_train = lr.predict(X_train)\n",
    "    train_acc = accuracy_score(y_train, y_hat_train)\n",
    "    acc_train.append(train_acc)\n",
    "    \n",
    "    y_hat_test = lr.predict(X_test)\n",
    "    test_acc = accuracy_score(y_test, y_hat_test)\n",
    "    acc_test.append(test_acc)\n",
    "\n",
    "    print('Fold {}: Train Accuracy={:0.2f}, Test Accuracy={:0.2f}'.format(fold+1, train_acc, test_acc))\n",
    "avg_tr=0 \n",
    "avg_te=0\n",
    "for tr_rec, te_rec in zip(acc_train, acc_test):\n",
    "    avg_tr += np.mean(tr_rec)\n",
    "    avg_te += np.mean(te_rec)\n",
    "avg_tr =avg_tr/len(acc_train)\n",
    "avg_te = avg_te/len(acc_test)\n",
    "print('Average Accuracy Train:{:0.2f} Accuracy Test:{:0.2f}'.format(avg_tr,avg_te))"
   ]
  },
  {
   "cell_type": "code",
   "execution_count": 173,
   "metadata": {},
   "outputs": [
    {
     "name": "stdout",
     "output_type": "stream",
     "text": [
      "[[-0.19648408 -0.29056985  0.00909317  0.00705883]]\n",
      "[2.58245882]\n"
     ]
    }
   ],
   "source": [
    "print(lr.coef_)\n",
    "print(lr.intercept_)"
   ]
  },
  {
   "cell_type": "markdown",
   "metadata": {},
   "source": [
    "Intercept: 2.58245882"
   ]
  },
  {
   "cell_type": "markdown",
   "metadata": {},
   "source": [
    "|Attribute|Beta-Score|\n",
    "|-:|:-|\n",
    "|anxiety/Q32|-0.19648408|\n",
    "|stop_worrying/Q33|-0.29056985|\n",
    "|anhedonia/Q34|0.00909317|\n",
    "|depression/Q35|0.00705883|"
   ]
  },
  {
   "cell_type": "markdown",
   "metadata": {},
   "source": [
    "The Logistic Regression model trained on the dataset showed, on average, a 78% accuracy while training and testing, which isn't great, but it isn't terrible either. How would you use this?\n",
    "\n",
    "Say you had a respondent who experienced several days of anxiety (2), +1/2 days unable to stop worrying (3), Not anhedonic (1), and Spent nearly every day Depressed (4). One would insert this as a list into the model to try to predict if they had received counseling."
   ]
  },
  {
   "cell_type": "code",
   "execution_count": 195,
   "metadata": {},
   "outputs": [
    {
     "data": {
      "text/plain": [
       "array([[0.20503627, 0.79496373]])"
      ]
     },
     "execution_count": 195,
     "metadata": {},
     "output_type": "execute_result"
    }
   ],
   "source": [
    "example1 = [[2,3,1,4]]\n",
    "# Array Definition: [Class'1'(received counseling), Class '2' (Did not receive therapy)]\n",
    "lr.predict_proba(example1)"
   ]
  },
  {
   "cell_type": "markdown",
   "metadata": {},
   "source": [
    "Clearly, student 'example1' is not having a good time, yet they still did not receive counseling. So what attributes would it take to predict someone as having received therapy?"
   ]
  },
  {
   "cell_type": "code",
   "execution_count": 198,
   "metadata": {},
   "outputs": [
    {
     "name": "stdout",
     "output_type": "stream",
     "text": [
      "[[4, 4, 1, 1]]\n",
      "[0.34290050334873823, 0.6570994966512618]\n"
     ]
    }
   ],
   "source": [
    "optimal_score=[0,0,0,0]\n",
    "optimal_percent=[-1,-1]\n",
    "for i in range(1,5):\n",
    "    for j in range(1,5):\n",
    "        for k in range(1,5):\n",
    "            for l in range(1,5):\n",
    "                temp=[[i,j,k,l]]\n",
    "                temp_prob = lr.predict_proba(temp)\n",
    "                if(temp_prob[0][0] > optimal_percent[0]):\n",
    "                    optimal_percent[0] = temp_prob[0][0]\n",
    "                    optimal_percent[1] = temp_prob[0][1]\n",
    "                    optimal_score = temp\n",
    "print(optimal_score)\n",
    "print(optimal_percent)"
   ]
  },
  {
   "cell_type": "markdown",
   "metadata": {},
   "source": [
    "The respondent that is most likely to go to therapy is someone who experiences anxiety nearly everyday, cannot stop themselves from worrying nearly every day, while not experiencing any anhedonia or depression, and even then, by the calculations of the prediction model, they are only 34% likely to respond that they have received therapy in the last four weeks. This is reflective of the overall low rates at which US college students under the age of 30 receive counseling or therapy according to the study."
   ]
  },
  {
   "cell_type": "markdown",
   "metadata": {},
   "source": [
    "-Percentage of students seeking counseling is low\n",
    "-students high in anxiety and worry but not necessarily in depression or anhedonia \n",
    "-Which students are most likely to seek counseling?"
   ]
  }
 ],
 "metadata": {
  "kernelspec": {
   "display_name": "Python 3",
   "language": "python",
   "name": "python3"
  },
  "language_info": {
   "codemirror_mode": {
    "name": "ipython",
    "version": 3
   },
   "file_extension": ".py",
   "mimetype": "text/x-python",
   "name": "python",
   "nbconvert_exporter": "python",
   "pygments_lexer": "ipython3",
   "version": "3.8.5"
  }
 },
 "nbformat": 4,
 "nbformat_minor": 4
}
